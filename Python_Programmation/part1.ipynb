#EX1:
def get_slice(a,l,L):
  print("la lenght of this string is: " ,len(a))
  if(l>=L):
    print('ERROR')
    return
  print(a[l:L])

#EX2: simple

#EX3:
def dictionary2(test):
  dic= {}
  for i in test:
    if i in dic:
        dic[i] += 1
    else:
        dic[i] = 1  
  print(str(dic))   

#EX4:
def two_lists(a,b):
  n=len(a)
  m=len(b)
  if(n!=m):
    print("ERROR")
    return
  for i in range(n):
    print(a[i],"  ",b[-1- i],'\n')

#EX5:
import numpy as np
a = np.ones((1, 10)).reshape(2, -1)
b = np.zeros((1, 10)).reshape(2, -1)
c = np.concatenate((a,b),axis=1)
print(a);
print(b);
print(c);

#EX6:
a = np.arange(3)
print(a);
b = np.ones((3,3,3))
print(b);
t= np.ones((3,9))
print(t)
