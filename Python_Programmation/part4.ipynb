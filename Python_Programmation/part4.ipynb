#EX1:
class square:
	def __init__(self , l , L):  
		if type(l)!=int() and type(l)!= float():
      			raise ValueError 
		self.l = l
		self.L = L
	def area(self):
		return (self.l)**2
	def perimeter(self):
		return (self.l)*4

#EX2:
class rectangle(square):
	def __init__(self , l , L):
		super().__init__(l = l , L = L)
		self.l = l
		self.L = L
	def area_rec(self):
    return (self.L) * (self.l)
  def perimeter_rec(self):
    return (self.l + self.L) * 2 
a = square( 10 , 10 )
b = rectangle( 10 , 10 )

#EX3:
class SampleClass:

    def __init__(self, a):
        self.__a = a
    @property
    def a(self):
        return self.__a
x = SampleClass(3)
print(x.a)
x = SampleClass(23)
print(x.a)
