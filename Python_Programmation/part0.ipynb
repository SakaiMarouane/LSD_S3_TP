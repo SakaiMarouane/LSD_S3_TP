#EX0:
name = input("entre ton nom : ")
print("hello", name)

#EX1:
def cap_vow(a):
    for i in a:
        if i in "aouie":
            print(i.upper(), end = ' ')
        else:
            print(i, end = ' ')
cap_vow('test')

#EX2:
def sum_mult(x,y):
  print("le produit de  ",x, "et " ,y, "est : ", x*y)
  print("la somme de  ",x, "et " ,y, "est : ", x+y)

#EX3:
print('Name', 'Is', 'James', sep='**')

#EX4:
i=1
while(i<11):
  print(i,'\n')
  i=i+1

#EX5:
a = ' '
for i in range(6):
	a = a +' {} '.format(i)
	print(a)

#EX6:
def tablle_mult(a):
  for i in range(13):
    print(i," * ",a," = ",a*i,'\n')
tablle_mult(15)

#EX7:
def test_product(a,b):
  if(a*b<1000):
    print( a," + ",b," = ",a+b)
  else:
    print( a," * ",b," = ",a*b)
test_product(50,50)

#EX8:
def check_true(a):
  if(a[len(a)-1] == a[0]):
    print(True)
  else:
    print(False)
